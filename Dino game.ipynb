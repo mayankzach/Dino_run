{
 "cells": [
  {
   "cell_type": "code",
   "execution_count": 16,
   "metadata": {},
   "outputs": [],
   "source": [
    "import cv2\n",
    "import numpy as np\n",
    "import matplotlib.pyplot as plt"
   ]
  },
  {
   "cell_type": "code",
   "execution_count": 17,
   "metadata": {},
   "outputs": [],
   "source": [
    "from PIL import ImageGrab as IG"
   ]
  },
  {
   "cell_type": "code",
   "execution_count": null,
   "metadata": {},
   "outputs": [],
   "source": [
    "def grab_screen(bbox=None):\n",
    "    screenshort = IG.grab(bbox)\n",
    "    screenshort = np.array(screenshort)\n",
    "    # since we have to use this image in the opencv that's why we have to convert the RGB image into BGR image!\n",
    "    screenshort = cv2.cvtColor(screenshort, cv2.COLOR_RGB2BGR)\n",
    "    return screenshort"
   ]
  },
  {
   "cell_type": "code",
   "execution_count": null,
   "metadata": {},
   "outputs": [
    {
     "ename": "ValueError",
     "evalue": "chr() arg not in range(0x110000)",
     "output_type": "error",
     "traceback": [
      "\u001b[1;31m---------------------------------------------------------------------------\u001b[0m",
      "\u001b[1;31mValueError\u001b[0m                                Traceback (most recent call last)",
      "Cell \u001b[1;32mIn[8], line 4\u001b[0m\n\u001b[0;32m      2\u001b[0m cv2\u001b[39m.\u001b[39mimshow(\u001b[39m'\u001b[39m\u001b[39mCheck\u001b[39m\u001b[39m'\u001b[39m,ssc_img)\n\u001b[0;32m      3\u001b[0m key \u001b[39m=\u001b[39m cv2\u001b[39m.\u001b[39mwaitKey(\u001b[39m0\u001b[39m)\n\u001b[1;32m----> 4\u001b[0m \u001b[39mprint\u001b[39m(key,\u001b[39m'\u001b[39m\u001b[39m -- \u001b[39m\u001b[39m'\u001b[39m,\u001b[39mchr\u001b[39;49m(key))\n\u001b[0;32m      5\u001b[0m cv2\u001b[39m.\u001b[39mdestroyAllWindows()\n",
      "\u001b[1;31mValueError\u001b[0m: chr() arg not in range(0x110000)"
     ]
    }
   ],
   "source": [
    "ssc_img = grab_screen((163,141,919,242))\n",
    "cv2.imshow('Check',ssc_img)\n",
    "key = cv2.waitKey(0)\n",
    "print(key,' -- ',chr(key))\n",
    "cv2.destroyAllWindows()"
   ]
  },
  {
   "cell_type": "code",
   "execution_count": null,
   "metadata": {},
   "outputs": [],
   "source": [
    "class Dino_Game :\n",
    "    \n",
    "    # Constructer Function, called every time when an object is created!\n",
    "    def __init__(self, path):\n",
    "        \n",
    "        # These all are the properties of each object!\n",
    "        image = cv2.imread(path)\n",
    "        self.image = image\n",
    "        self.height = image.shape[0]\n",
    "        self.width = image.shape[1]\n",
    "        self.location = None\n",
    "        \n",
    "    # This function do the template matching of the object image in the screenshort of your screen!\n",
    "    def match(self, screen_img):\n",
    "        \n",
    "        # Here we use cv2.TM_CCOEFF_NORMED method, but you have to perform many trials before choosing the perfect method.\n",
    "        result = cv2.matchTemplate(screen_img, self.image, cv2.TM_CCOEFF_NORMED)\n",
    "        min_value, max_value, min_loc, max_loc = cv2.minMaxLoc(result)\n",
    "        \n",
    "        # Coordinate of the Top Left match template in the screen!\n",
    "        top_left = max_loc\n",
    "        \n",
    "        # Coordinate of the Bottom Right match template in the screen!\n",
    "        bottom_right = (max_loc[0]+self.width, max_loc[1]+self.height)\n",
    "        \n",
    "        # Threshold is the probability of how much the image is similar with other image!\n",
    "        # Compare it's probability with the desirable threshold!\n",
    "        if max_value > 0.85 :\n",
    "            self.location = (top_left, bottom_right)\n",
    "            return True\n",
    "        else :\n",
    "            self.location = None\n",
    "            return False"
   ]
  },
  {
   "cell_type": "code",
   "execution_count": null,
   "metadata": {},
   "outputs": [],
   "source": [
    "# Make a list of players\n",
    "Dino = Dino_Game('dino.png')\n",
    "\n",
    "# Make a list of enemies\n",
    "Enemies = [Dino_Game('cact1.png'), Dino_Game('cact2.png'), Dino_Game('cact3.png'), Dino_Game('cact4.png'),\n",
    "           Dino_Game('cact5.png'),Dino_Game('cact6.png'), Dino_Game('bird.png'), Dino_Game('bird1.png'), Dino_Game('bird2.png')]"
   ]
  },
  {
   "cell_type": "code",
   "execution_count": null,
   "metadata": {},
   "outputs": [],
   "source": [
    "import time \n",
    "\n",
    "import pyautogui as pag"
   ]
  },
  {
   "cell_type": "code",
   "execution_count": null,
   "metadata": {},
   "outputs": [
    {
     "name": "stdout",
     "output_type": "stream",
     "text": [
      "Seconds since epoch = 1687070875.960619\n"
     ]
    }
   ],
   "source": [
    "seconds = time.time()\n",
    "print(\"Seconds since epoch =\", seconds)"
   ]
  },
  {
   "cell_type": "code",
   "execution_count": null,
   "metadata": {},
   "outputs": [
    {
     "ename": "KeyboardInterrupt",
     "evalue": "",
     "output_type": "error",
     "traceback": [
      "\u001b[1;31m---------------------------------------------------------------------------\u001b[0m",
      "\u001b[1;31mKeyboardInterrupt\u001b[0m                         Traceback (most recent call last)",
      "Cell \u001b[1;32mIn[15], line 56\u001b[0m\n\u001b[0;32m     54\u001b[0m \u001b[39m# Detect enemies from the given list\u001b[39;00m\n\u001b[0;32m     55\u001b[0m \u001b[39mfor\u001b[39;00m enemy \u001b[39min\u001b[39;00m Enemies :\n\u001b[1;32m---> 56\u001b[0m     \u001b[39mif\u001b[39;00m enemy\u001b[39m.\u001b[39;49mmatch(main_panal):\n\u001b[0;32m     57\u001b[0m         cv2\u001b[39m.\u001b[39mrectangle(main_panal, enemy\u001b[39m.\u001b[39mlocation[\u001b[39m0\u001b[39m], enemy\u001b[39m.\u001b[39mlocation[\u001b[39m1\u001b[39m], (\u001b[39m0\u001b[39m,\u001b[39m0\u001b[39m,\u001b[39m255\u001b[39m), \u001b[39m2\u001b[39m)\n\u001b[0;32m     58\u001b[0m         \u001b[39mif\u001b[39;00m Dino\u001b[39m.\u001b[39mlocation:\n",
      "Cell \u001b[1;32mIn[9], line 17\u001b[0m, in \u001b[0;36mDino_Game.match\u001b[1;34m(self, screen_img)\u001b[0m\n\u001b[0;32m     14\u001b[0m \u001b[39mdef\u001b[39;00m \u001b[39mmatch\u001b[39m(\u001b[39mself\u001b[39m, screen_img):\n\u001b[0;32m     15\u001b[0m     \n\u001b[0;32m     16\u001b[0m     \u001b[39m# Here we use cv2.TM_CCOEFF_NORMED method, but you have to perform many trials before choosing the perfect method.\u001b[39;00m\n\u001b[1;32m---> 17\u001b[0m     result \u001b[39m=\u001b[39m cv2\u001b[39m.\u001b[39;49mmatchTemplate(screen_img, \u001b[39mself\u001b[39;49m\u001b[39m.\u001b[39;49mimage, cv2\u001b[39m.\u001b[39;49mTM_CCOEFF_NORMED)\n\u001b[0;32m     18\u001b[0m     min_value, max_value, min_loc, max_loc \u001b[39m=\u001b[39m cv2\u001b[39m.\u001b[39mminMaxLoc(result)\n\u001b[0;32m     20\u001b[0m     \u001b[39m# Coordinate of the Top Left match template in the screen!\u001b[39;00m\n",
      "\u001b[1;31mKeyboardInterrupt\u001b[0m: "
     ]
    }
   ],
   "source": [
    "# as the time passes the speed of the game will increase and we have to jump earlier!\n",
    "speed = 4\n",
    "\n",
    "# acceleration\n",
    "acceleration = 0.36\n",
    "\n",
    "# the threshold at which we have to jump!\n",
    "distanceThreshold = 156\n",
    "\n",
    "# First we will check the dino icon in the screen and start the game!\n",
    "\n",
    "while True :\n",
    "\n",
    "    # Take the screenshot of the screen\n",
    "    screen = grab_screen()\n",
    "\n",
    "    # Match the dino template(detect)\n",
    "    if Dino.match(screen):\n",
    "        if Dino.location != None :\n",
    "            topleft_x = int(Dino.location[0][0] - 0.25*Dino.width)\n",
    "            topleft_y = int(Dino.location[0][1] - 2.65*Dino.height)\n",
    "            bottomRight_x = int(Dino.location[1][0] + 10.25*Dino.width)\n",
    "            bottomRight_y = int(Dino.location[1][1] + 0.3*Dino.height)\n",
    "            TopLeft = (topleft_x, topleft_y)\n",
    "            BottomRight = (bottomRight_x, bottomRight_y)\n",
    "            break\n",
    "\n",
    "# press space to start\n",
    "pag.press('space')\n",
    "\n",
    "# Time when you started the game\n",
    "startTime = time.time()\n",
    "\n",
    "# previous time(time before the action)\n",
    "prevTime = time.time()\n",
    "\n",
    "# Now the game is started \n",
    "while True :\n",
    "\n",
    "    # we will select a small area from the screen, we will use that area to detect the enemies\n",
    "    main_panal = grab_screen(bbox=(TopLeft[0], TopLeft[1], BottomRight[0], BottomRight[1]))\n",
    "\n",
    "    # as the time progreses the speed of the game also increases, so we have to increase the distanceThreshold\n",
    "    if time.time() - startTime > 12 and Dino.location:\n",
    "        speed += speed*acceleration\n",
    "        distanceThreshold += speed\n",
    "        startTime = prevTime\n",
    "        prevTime = time.time()\n",
    "\n",
    "    if Dino.match(main_panal):\n",
    "        if Dino.location:\n",
    "            cv2.rectangle(main_panal, Dino.location[0], Dino.location[1], (255,0,0), 2)\n",
    "\n",
    "    # Detect enemies from the given list\n",
    "    for enemy in Enemies :\n",
    "        if enemy.match(main_panal):\n",
    "            cv2.rectangle(main_panal, enemy.location[0], enemy.location[1], (0,0,255), 2)\n",
    "            if Dino.location:\n",
    "                horizontalDistance = enemy.location[0][0] - Dino.location[1][0]\n",
    "                verticalDistance = Dino.location[0][1] - enemy.location[1][1]\n",
    "\n",
    "                if horizontalDistance <= distanceThreshold and horizontalDistance >= 0: \n",
    "                    \n",
    "                    # if the enemie is above the dino head then we don't have to jump\n",
    "                    if verticalDistance <= 0 :\n",
    "                        pag.press('space')\n",
    "                        break\n",
    "                        \n",
    "    # show the selected area\n",
    "    cv2.imshow(\"Screen\", main_panal)\n",
    "\n",
    "    # If we press key q, then the program will stop\n",
    "    if cv2.waitKey(1) == ord('q') :\n",
    "        cv2.destroyAllWindows()\n",
    "        break"
   ]
  }
 ],
 "metadata": {
  "kernelspec": {
   "display_name": "Python 3",
   "language": "python",
   "name": "python3"
  },
  "language_info": {
   "codemirror_mode": {
    "name": "ipython",
    "version": 3
   },
   "file_extension": ".py",
   "mimetype": "text/x-python",
   "name": "python",
   "nbconvert_exporter": "python",
   "pygments_lexer": "ipython3",
   "version": "3.10.11"
  }
 },
 "nbformat": 4,
 "nbformat_minor": 4
}
